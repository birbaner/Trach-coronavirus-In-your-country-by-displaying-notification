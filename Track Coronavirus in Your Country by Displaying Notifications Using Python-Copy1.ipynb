{
 "cells": [
  {
   "cell_type": "code",
   "execution_count": 8,
   "id": "e4918b79",
   "metadata": {},
   "outputs": [
    {
     "name": "stdout",
     "output_type": "stream",
     "text": [
      "Requirement already satisfied: win10toast in c:\\users\\user\\anaconda3\\lib\\site-packages (0.9)\n",
      "Requirement already satisfied: pypiwin32 in c:\\users\\user\\anaconda3\\lib\\site-packages (from win10toast) (223)\n",
      "Note: you may need to restart the kernel to use updated packages.\n",
      "Requirement already satisfied: setuptools in c:\\users\\user\\anaconda3\\lib\\site-packages (from win10toast) (58.0.4)\n",
      "Requirement already satisfied: pywin32>=223 in c:\\users\\user\\anaconda3\\lib\\site-packages (from pypiwin32->win10toast) (228)\n"
     ]
    }
   ],
   "source": [
    "pip install win10toast"
   ]
  },
  {
   "cell_type": "code",
   "execution_count": 9,
   "id": "615e0be0",
   "metadata": {},
   "outputs": [
    {
     "name": "stdout",
     "output_type": "stream",
     "text": [
      "Requirement already satisfied: bs4 in c:\\users\\user\\anaconda3\\lib\\site-packages (0.0.1)\n",
      "Requirement already satisfied: beautifulsoup4 in c:\\users\\user\\anaconda3\\lib\\site-packages (from bs4) (4.10.0)\n",
      "Requirement already satisfied: soupsieve>1.2 in c:\\users\\user\\anaconda3\\lib\\site-packages (from beautifulsoup4->bs4) (2.2.1)\n",
      "Note: you may need to restart the kernel to use updated packages.\n"
     ]
    }
   ],
   "source": [
    "pip install bs4"
   ]
  },
  {
   "cell_type": "code",
   "execution_count": 10,
   "id": "4af998d2",
   "metadata": {},
   "outputs": [
    {
     "name": "stdout",
     "output_type": "stream",
     "text": [
      "Requirement already satisfied: requests in c:\\users\\user\\anaconda3\\lib\\site-packages (2.27.1)\n",
      "Requirement already satisfied: charset-normalizer~=2.0.0 in c:\\users\\user\\anaconda3\\lib\\site-packages (from requests) (2.0.4)\n",
      "Requirement already satisfied: certifi>=2017.4.17 in c:\\users\\user\\anaconda3\\lib\\site-packages (from requests) (2021.10.8)\n",
      "Requirement already satisfied: idna<4,>=2.5 in c:\\users\\user\\anaconda3\\lib\\site-packages (from requests) (3.2)\n",
      "Requirement already satisfied: urllib3<1.27,>=1.21.1 in c:\\users\\user\\anaconda3\\lib\\site-packages (from requests) (1.26.7)\n",
      "Note: you may need to restart the kernel to use updated packages.\n"
     ]
    }
   ],
   "source": [
    "pip install requests"
   ]
  },
  {
   "cell_type": "markdown",
   "id": "16ec8a30",
   "metadata": {},
   "source": [
    "# Coding"
   ]
  },
  {
   "cell_type": "code",
   "execution_count": 11,
   "id": "527e07d6",
   "metadata": {},
   "outputs": [],
   "source": [
    "#creating a new python script and importing all the necessary packages:\n",
    "\n",
    "from win10toast import ToastNotifier\n",
    "from bs4 import BeautifulSoup\n",
    "import requests\n",
    "import time"
   ]
  },
  {
   "cell_type": "code",
   "execution_count": 12,
   "id": "0751e291",
   "metadata": {},
   "outputs": [],
   "source": [
    "country = \"USA\"\n",
    "notification_duration = 10\n",
    "refresh_time = 10 #minutes\n",
    "worldmetersLink = \"https://www.worldometers.info/coronavirus/\""
   ]
  },
  {
   "cell_type": "code",
   "execution_count": 13,
   "id": "195e5ccc",
   "metadata": {},
   "outputs": [],
   "source": [
    "try:\n",
    "    html_page = requests.get(worldmetersLink)\n",
    "except requests.exceptions.RequestException as e:\n",
    "    print(e) #connection error\n",
    "    #continue is only allowed within a for or while loop. "
   ]
  },
  {
   "cell_type": "code",
   "execution_count": null,
   "id": "147f8130",
   "metadata": {},
   "outputs": [],
   "source": [
    "The HTML content of the webpages can be parsed and scraped with Beautiful Soup.\n",
    "What makes Beautiful Soup so useful is the myriad functions it provides to extract data from HTML. \n",
    "The HTML file needs to be prepared. This is done by passing the file to the BeautifulSoup constructor, \n",
    "lets use the interactive Python shell for this,Now we can use Beautiful Soup to navigate our website and extract data."
   ]
  },
  {
   "cell_type": "code",
   "execution_count": 24,
   "id": "26922378",
   "metadata": {},
   "outputs": [],
   "source": [
    "#So, we use the CSS selector to search for tags that match those CSS classes ( div, tbody, tr, td):\n",
    "\n",
    "bs = BeautifulSoup(html_page.content, 'html.parser')\n",
    "search = bs.select(\"div tbody tr td\")"
   ]
  },
  {
   "cell_type": "code",
   "execution_count": 6,
   "id": "919b5935",
   "metadata": {},
   "outputs": [
    {
     "name": "stdout",
     "output_type": "stream",
     "text": [
      "a\n",
      "b\n",
      "c\n"
     ]
    }
   ],
   "source": [
    "#Explanation: In the above solution len(li) is used to find the length of the given list. \n",
    "#Now, when you apply the range function upon len(li) as range(len(li)) it creates a squence of numbers from 0 up to len(li)-1. \n",
    "#These numbers can then be used as indices of the given list such that you can access each item in the list using its index \n",
    "#with the help of a for loop.\n",
    "\n",
    "\n",
    "li = ['a', 'b', 'c']\n",
    "for i in range(len(li)):\n",
    "    print(li[i])"
   ]
  },
  {
   "cell_type": "code",
   "execution_count": 7,
   "id": "1e84ff3a",
   "metadata": {},
   "outputs": [
    {
     "name": "stdout",
     "output_type": "stream",
     "text": [
      "0\n"
     ]
    }
   ],
   "source": [
    "message = 'Python is a fun programming language'\n",
    "\n",
    "# check the index of 'fun'\n",
    "print(message.find('Python')) \n",
    "\n",
    "#The find() method returns the index of first occurrence of the substring (if found). \n",
    "#If not found, it returns -1."
   ]
  },
  {
   "cell_type": "code",
   "execution_count": 26,
   "id": "22907f91",
   "metadata": {},
   "outputs": [
    {
     "name": "stdout",
     "output_type": "stream",
     "text": [
      "177\n"
     ]
    }
   ],
   "source": [
    "start = 1\n",
    "for i in range(len(search)):\n",
    "    if search[i].get_text().find(country) !=-1: #The find() method returns the index of first occurrence of the substring (if found).\n",
    "        start = i\n",
    "        break\n",
    "print(i)"
   ]
  },
  {
   "cell_type": "code",
   "execution_count": 22,
   "id": "95e18788",
   "metadata": {},
   "outputs": [
    {
     "name": "stdout",
     "output_type": "stream",
     "text": [
      "['105,998,386', '+2,286', '1,151,998                                ', '+31', '103,650,517', '+16,791', '1,195,871']\n"
     ]
    }
   ],
   "source": [
    "#Then we store the data, which is between the tags, in an array:\n",
    "#+= adds another value with the variable's value and assigns the new value to the variable.\n",
    "\n",
    "data = []\n",
    "for i in range(1,8):\n",
    "    try:\n",
    "        data += [search[start+i].get_text()] #total number\n",
    "    except:\n",
    "        data += [0]\n",
    "print(data)"
   ]
  },
  {
   "cell_type": "markdown",
   "id": "2205779b",
   "metadata": {},
   "source": [
    "x = 3\n",
    "x += 2\n",
    "print x\n",
    "5"
   ]
  },
  {
   "cell_type": "code",
   "execution_count": 18,
   "id": "51e59a8e",
   "metadata": {},
   "outputs": [],
   "source": [
    "message = \"Total infected = {}, New Case = {}, Total Deaths = {}, New Deaths = {}, Recovred = {}, Active Case = {}, Serious Critical = {}\".format(*data)"
   ]
  },
  {
   "cell_type": "code",
   "execution_count": 11,
   "id": "476ea30c",
   "metadata": {},
   "outputs": [
    {
     "name": "stdout",
     "output_type": "stream",
     "text": [
      "Requirement already satisfied: requests in c:\\users\\user\\anaconda3\\lib\\site-packages (2.27.1)\n",
      "Requirement already satisfied: certifi>=2017.4.17 in c:\\users\\user\\anaconda3\\lib\\site-packages (from requests) (2021.10.8)\n",
      "Requirement already satisfied: charset-normalizer~=2.0.0 in c:\\users\\user\\anaconda3\\lib\\site-packages (from requests) (2.0.4)\n",
      "Requirement already satisfied: urllib3<1.27,>=1.21.1 in c:\\users\\user\\anaconda3\\lib\\site-packages (from requests) (1.26.7)\n",
      "Requirement already satisfied: idna<4,>=2.5 in c:\\users\\user\\anaconda3\\lib\\site-packages (from requests) (3.2)\n",
      "Note: you may need to restart the kernel to use updated packages.\n"
     ]
    }
   ],
   "source": [
    "pip install requests"
   ]
  },
  {
   "cell_type": "code",
   "execution_count": 29,
   "id": "3b1bf370",
   "metadata": {},
   "outputs": [
    {
     "name": "stdout",
     "output_type": "stream",
     "text": [
      "Requirement already satisfied: beautifulsoup4 in c:\\users\\user\\anaconda3\\lib\\site-packages (4.10.0)Note: you may need to restart the kernel to use updated packages.\n",
      "\n",
      "Requirement already satisfied: soupsieve>1.2 in c:\\users\\user\\anaconda3\\lib\\site-packages (from beautifulsoup4) (2.2.1)\n"
     ]
    }
   ],
   "source": [
    "pip install beautifulsoup4"
   ]
  },
  {
   "cell_type": "code",
   "execution_count": 30,
   "id": "360c5140",
   "metadata": {
    "scrolled": true
   },
   "outputs": [
    {
     "name": "stdout",
     "output_type": "stream",
     "text": [
      "Collecting plyer\n",
      "  Downloading plyer-2.1.0-py2.py3-none-any.whl (142 kB)\n",
      "Installing collected packages: plyer\n",
      "Successfully installed plyer-2.1.0\n",
      "Note: you may need to restart the kernel to use updated packages.\n"
     ]
    }
   ],
   "source": [
    "pip install plyer"
   ]
  },
  {
   "cell_type": "markdown",
   "id": "8ee15ac2",
   "metadata": {},
   "source": [
    "# Make a Covid-19 Tracker using Python"
   ]
  },
  {
   "cell_type": "code",
   "execution_count": 115,
   "id": "30221502",
   "metadata": {},
   "outputs": [],
   "source": [
    "#do all the imports\n",
    "\n",
    "import requests\n",
    "import bs4\n",
    "import tkinter as tk\n",
    "import plyer\n",
    "import time\n",
    "import datetime"
   ]
  },
  {
   "cell_type": "code",
   "execution_count": 116,
   "id": "8891dba0",
   "metadata": {},
   "outputs": [],
   "source": [
    "def get_html_data(url): #because we will fetch a website\n",
    "    data=requests.get(url) # get will return htmlformed data from website\n",
    "    return data"
   ]
  },
  {
   "cell_type": "code",
   "execution_count": 117,
   "id": "291ba48e",
   "metadata": {},
   "outputs": [],
   "source": [
    "def get_html_data(url): #because we will fetch a website\n",
    "    data=requests.get(url) # get will return htmlformed data from website\n",
    "    return data "
   ]
  },
  {
   "cell_type": "code",
   "execution_count": 131,
   "id": "7e0f418e",
   "metadata": {},
   "outputs": [],
   "source": [
    "def get_covid_data(): \n",
    "    url=\"https://www.worldometers.info/coronavirus/\"\n",
    "    html_data=get_html_data(url)\n",
    "    bs=bs4.BeautifulSoup(html_data.text,'html.parser')\n",
    "    #print(bs.prettify())#will print in good format\n",
    "    info_div=bs.find(\"div\", class_=\"content-inner\").findAll(\"div\", id=\"maincounter-wrap\")\n",
    "    #print(info_div)\n",
    "    \n",
    "###we will run a loop for every seperate block in info_div to find death,.... for each seperate block\n",
    "\n",
    "    all_data=\"\" #empty cell\n",
    "    \n",
    "    for block in info_div:\n",
    "        text= block.find(\"h1\", class_=None).get_text() \n",
    "        \n",
    "        count=block.find(\"span\", class_=None).get_text() #to get the number\n",
    "        \n",
    "        all_data= all_data + text+ \"\"+count+\"\\n\" ##fill in the empty cell\n",
    "        \n",
    "    return (all_data)\n",
    "        \n",
    "    #print(all_data) #print this data outside of the forloop\n",
    "\n",
    "    \n",
    "#to get the country details will create another function:\n",
    "\n",
    "def get_country_data():\n",
    "    name= textfield.get()\n",
    "    url=\"https://www.worldometers.info/coronavirus/country/\"+name\n",
    "    \n",
    "    html_data=get_html_data(url)\n",
    "    bs=bs4.BeautifulSoup(html_data.text,'html.parser')\n",
    "    info_div=bs.find(\"div\", class_=\"content-inner\").findAll(\"div\", id=\"maincounter-wrap\")\n",
    "    \n",
    "    all_data=\"\" #empty cell\n",
    "    \n",
    "    for block in info_div:\n",
    "        text= block.find(\"h1\").get_text() \n",
    "        \n",
    "        count=block.find(\"span\").get_text() #to get the number\n",
    "        \n",
    "        all_data= all_data + text+ \"\"+count+\"\\n\" ##fill in the empty cell\n",
    "        \n",
    "        mainlabel['text']=all_data\n",
    "        \n",
    "    \n",
    "\n",
    "    \n",
    "\n",
    "\n",
    "   #to reload data from website will create a new function:\n",
    "def reload():\n",
    "    new_data=get_covid_data()\n",
    "    mainlabel['text']= new_data\n",
    "        \n",
    "\n",
    "        "
   ]
  },
  {
   "cell_type": "code",
   "execution_count": 132,
   "id": "00c50422",
   "metadata": {},
   "outputs": [
    {
     "data": {
      "text/plain": [
       "'Coronavirus Cases:682,891,877        \\nDeaths:6,822,515\\nRecovered:655,824,688\\n'"
      ]
     },
     "execution_count": 132,
     "metadata": {},
     "output_type": "execute_result"
    }
   ],
   "source": [
    "get_covid_data() #to get the output we have to call that function"
   ]
  },
  {
   "cell_type": "markdown",
   "id": "7c15f6c7",
   "metadata": {},
   "source": [
    "##Another way  with main()"
   ]
  },
  {
   "cell_type": "markdown",
   "id": "19029e40",
   "metadata": {},
   "source": [
    "def get_corona_detail_of_india(): #this function will give us the info about corona in india through url\n",
    "    url=\"https://www.mohfw.gov.in/\"\n",
    "    html_data=get_html_data(url)\n",
    "    print(html_data.text) #it will print html data in text format\n",
    "    \n",
    " ## we have to go outside of this function and call it to get the data   "
   ]
  },
  {
   "cell_type": "code",
   "execution_count": 15,
   "id": "4353d5bb",
   "metadata": {},
   "outputs": [],
   "source": [
    "#get_corona_detail_of_india() print full page html code in text format so we will call main()"
   ]
  },
  {
   "cell_type": "markdown",
   "id": "d8475461",
   "metadata": {},
   "source": [
    " def main():\n",
    "        get_corona_detail_of_india()\n",
    "        "
   ]
  },
  {
   "cell_type": "markdown",
   "id": "342556e9",
   "metadata": {},
   "source": [
    "if _name_ == '_main_':\n",
    "    main()"
   ]
  },
  {
   "cell_type": "markdown",
   "id": "cb24d784",
   "metadata": {},
   "source": [
    "# Make an app to track"
   ]
  },
  {
   "cell_type": "code",
   "execution_count": null,
   "id": "6d55eb32",
   "metadata": {},
   "outputs": [
    {
     "name": "stderr",
     "output_type": "stream",
     "text": [
      "Exception in Tkinter callback\n",
      "Traceback (most recent call last):\n",
      "  File \"C:\\Users\\user\\anaconda3\\lib\\tkinter\\__init__.py\", line 1892, in __call__\n",
      "    return self.func(*args)\n",
      "  File \"C:\\Users\\user\\AppData\\Local\\Temp/ipykernel_19276/3827994509.py\", line 33, in get_country_data\n",
      "    info_div=bs.find(\"div\", class_=\"content-inner\").findAll(\"div\", id=\"maincounter-wrap\")\n",
      "AttributeError: 'NoneType' object has no attribute 'findAll'\n"
     ]
    }
   ],
   "source": [
    "root=tk.Tk()\n",
    "root.geometry(\"900x700\")\n",
    "root.title(\"Covid Tracker\")\n",
    "f=(\"poppins\",25,\"bold\")\n",
    "\n",
    "#banner= tk.PhotoImage(file=path)\n",
    "#bannerlabel=tk.label(root,image=banner)\n",
    "#bannerlabe.pack()\n",
    "\n",
    "#create a text field:\n",
    "\n",
    "textfield=tk.Entry(root,width=50)\n",
    "textfield.pack()\n",
    "\n",
    "mainlabel=tk.Label(root,text=get_covid_data(), font=f)\n",
    "mainlabel.pack()\n",
    "\n",
    "\n",
    "\n",
    "#Create another button to get data:\n",
    "\n",
    "gbtn= tk.Button(root, text=\"Get Data\", font=f, relief='solid', command=get_country_data)\n",
    "gbtn.pack()\n",
    "\n",
    "##create a button for reload\n",
    "\n",
    "rbtn= tk.Button(root, text=\"Reload\", font=f, relief='solid', command=reload)\n",
    "rbtn.pack()\n",
    "\n",
    "\n",
    "\n",
    "root.mainloop()"
   ]
  }
 ],
 "metadata": {
  "kernelspec": {
   "display_name": "Python 3 (ipykernel)",
   "language": "python",
   "name": "python3"
  },
  "language_info": {
   "codemirror_mode": {
    "name": "ipython",
    "version": 3
   },
   "file_extension": ".py",
   "mimetype": "text/x-python",
   "name": "python",
   "nbconvert_exporter": "python",
   "pygments_lexer": "ipython3",
   "version": "3.11.5"
  }
 },
 "nbformat": 4,
 "nbformat_minor": 5
}
